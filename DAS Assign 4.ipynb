{
 "cells": [
  {
   "cell_type": "markdown",
   "id": "612ebb40",
   "metadata": {},
   "source": [
    "##QUESTION 1"
   ]
  },
  {
   "cell_type": "code",
   "execution_count": 3,
   "id": "60720e4c",
   "metadata": {},
   "outputs": [],
   "source": [
    "from collections import defaultdict, deque"
   ]
  },
  {
   "cell_type": "code",
   "execution_count": 4,
   "id": "1532d150",
   "metadata": {},
   "outputs": [
    {
     "name": "stdout",
     "output_type": "stream",
     "text": [
      "Breadth-First Traversal starting from vertex 2:\n",
      "2 0 3 1 "
     ]
    }
   ],
   "source": [
    "class Graph:\n",
    "    def __init__(self):\n",
    "        self.graph = defaultdict(list)\n",
    "\n",
    "    def add_edge(self, u, v):\n",
    "        self.graph[u].append(v)\n",
    "\n",
    "    def bfs(self, start):\n",
    "        visited = set()\n",
    "        queue = deque()\n",
    "\n",
    "        queue.append(start)\n",
    "        visited.add(start)\n",
    "\n",
    "        while queue:\n",
    "            node = queue.popleft()\n",
    "            print(node, end=' ')  \n",
    "\n",
    "            for neighbor in self.graph[node]:\n",
    "                if neighbor not in visited:\n",
    "                    queue.append(neighbor)\n",
    "                    visited.add(neighbor)\n",
    "\n",
    "#Example:                    \n",
    "                    \n",
    "if __name__ == \"__main__\":\n",
    "    g = Graph()\n",
    "    g.add_edge(0, 1)\n",
    "    g.add_edge(0, 2)\n",
    "    g.add_edge(1, 2)\n",
    "    g.add_edge(2, 0)\n",
    "    g.add_edge(2, 3)\n",
    "    g.add_edge(3, 3)\n",
    "\n",
    "print(\"Breadth-First Traversal starting from vertex 2:\")\n",
    "g.bfs(2)\n"
   ]
  },
  {
   "cell_type": "markdown",
   "id": "2f9f1d21",
   "metadata": {},
   "source": [
    "##QUESTION 2"
   ]
  },
  {
   "cell_type": "code",
   "execution_count": 5,
   "id": "f1d6f8de",
   "metadata": {},
   "outputs": [
    {
     "name": "stdout",
     "output_type": "stream",
     "text": [
      "DFS Traversal starting from 'B':\n",
      "B D E "
     ]
    }
   ],
   "source": [
    "class Graph:\n",
    "    def __init__(self):\n",
    "        self.graph = defaultdict(list)\n",
    "\n",
    "    def add_edge(self, u, v):\n",
    "        self.graph[u].append(v)\n",
    "\n",
    "    def dfs(self, vertex, visited):\n",
    "        visited.add(vertex)\n",
    "        print(vertex, end=' ') \n",
    "\n",
    "        for neighbor in self.graph[vertex]:\n",
    "            if neighbor not in visited:\n",
    "                self.dfs(neighbor, visited)\n",
    "\n",
    "# Example:\n",
    "if __name__ == \"__main__\":\n",
    "    g = Graph()\n",
    "    g.add_edge('A', 'B')\n",
    "    g.add_edge('A', 'C')\n",
    "    g.add_edge('B', 'D')\n",
    "    g.add_edge('B', 'E')\n",
    "    g.add_edge('C', 'F')\n",
    "\n",
    "    visited = set()  \n",
    "\n",
    "    print(\"DFS Traversal starting from 'B':\")\n",
    "    g.dfs('B', visited)\n"
   ]
  },
  {
   "cell_type": "markdown",
   "id": "39579389",
   "metadata": {},
   "source": [
    "##QUESTION 3"
   ]
  },
  {
   "cell_type": "code",
   "execution_count": 6,
   "id": "04a194fb",
   "metadata": {},
   "outputs": [
    {
     "name": "stdout",
     "output_type": "stream",
     "text": [
      "Number of nodes at level 2: 4\n"
     ]
    }
   ],
   "source": [
    "class TreeNode:\n",
    "    def __init__(self, value):\n",
    "        self.value = value\n",
    "        self.children = []\n",
    "\n",
    "def count_nodes_at_level(root, target_level):\n",
    "    if not root:\n",
    "        return 0\n",
    "\n",
    "    queue = deque([root])\n",
    "    current_level = 0\n",
    "    nodes_at_target_level = 0\n",
    "\n",
    "    while queue:\n",
    "        level_size = len(queue)  \n",
    "        \n",
    "        for i in range(level_size):\n",
    "            node = queue.popleft()\n",
    "\n",
    "            if current_level == target_level:\n",
    "                nodes_at_target_level += 1\n",
    "\n",
    "            queue.extend(node.children)\n",
    "\n",
    "        current_level += 1  \n",
    "    return nodes_at_target_level\n",
    "\n",
    "# Example:\n",
    "if __name__ == \"__main__\":\n",
    "    # Create a tree:\n",
    "    root = TreeNode(1)\n",
    "    root.children = [TreeNode(2), TreeNode(3)]\n",
    "    root.children[0].children = [TreeNode(4), TreeNode(5)]\n",
    "    root.children[1].children = [TreeNode(6), TreeNode(7)]\n",
    "\n",
    "    target_level = 2 \n",
    "\n",
    "    count = count_nodes_at_level(root, target_level)\n",
    "    print(f\"Number of nodes at level {target_level}: {count}\")\n"
   ]
  },
  {
   "cell_type": "markdown",
   "id": "f9078d54",
   "metadata": {},
   "source": [
    "##QUESTION 4"
   ]
  },
  {
   "cell_type": "code",
   "execution_count": 7,
   "id": "cc028331",
   "metadata": {},
   "outputs": [
    {
     "name": "stdout",
     "output_type": "stream",
     "text": [
      "Number of trees in the forest: 4\n"
     ]
    }
   ],
   "source": [
    "class Graph:\n",
    "    def __init__(self):\n",
    "        self.graph = defaultdict(list)\n",
    "\n",
    "    def add_edge(self, u, v):\n",
    "        self.graph[u].append(v)\n",
    "        self.graph[v].append(u)  \n",
    "        \n",
    "    def dfs(self, vertex, visited):\n",
    "        visited.add(vertex)\n",
    "        for neighbor in self.graph[vertex]:\n",
    "            if neighbor not in visited:\n",
    "                self.dfs(neighbor, visited)\n",
    "\n",
    "def count_trees_in_forest(graph):\n",
    "    visited = set()\n",
    "    count = 0\n",
    "\n",
    "    for vertex in graph:\n",
    "        if vertex not in visited:\n",
    "            g.dfs(vertex, visited)\n",
    "            count += 1\n",
    "\n",
    "    return count\n",
    "\n",
    "# Example:\n",
    "if __name__ == \"__main__\":\n",
    "    g = Graph()\n",
    "    g.add_edge(1, 2)\n",
    "    g.add_edge(2, 3)\n",
    "    g.add_edge(4, 5)\n",
    "\n",
    "forest = {\n",
    "    1: [2, 3, 4],\n",
    "    2: [1],\n",
    "    3: [1],\n",
    "    4: [1],\n",
    "    5: [6],\n",
    "    6: [5],\n",
    "    7: [8, 9],\n",
    "    8: [7],\n",
    "    9: [7],\n",
    "    10: []\n",
    "}\n",
    "\n",
    "if __name__ == \"__main__\":\n",
    "    g = Graph()\n",
    "\n",
    "    for vertex, neighbors in forest.items():\n",
    "        for neighbor in neighbors:\n",
    "            g.add_edge(vertex, neighbor)\n",
    "\n",
    "    num_trees = count_trees_in_forest(forest)\n",
    "    print(f\"Number of trees in the forest: {num_trees}\")\n"
   ]
  },
  {
   "cell_type": "markdown",
   "id": "1c59281b",
   "metadata": {},
   "source": [
    "##QUESTION 5"
   ]
  },
  {
   "cell_type": "code",
   "execution_count": 8,
   "id": "397473fd",
   "metadata": {},
   "outputs": [
    {
     "name": "stdout",
     "output_type": "stream",
     "text": [
      "The directed graph contains a cycle.\n"
     ]
    }
   ],
   "source": [
    "class Graph:\n",
    "    def __init__(self):\n",
    "        self.graph = defaultdict(list)\n",
    "\n",
    "    def add_edge(self, u, v):\n",
    "        self.graph[u].append(v)\n",
    "\n",
    "    def has_cycle(self):\n",
    "        visited = set()\n",
    "        recursion_stack = set()\n",
    "\n",
    "        def dfs(node):\n",
    "            visited.add(node)\n",
    "            recursion_stack.add(node)\n",
    "\n",
    "            for neighbor in self.graph[node]:\n",
    "                if neighbor not in visited:\n",
    "                    if dfs(neighbor):\n",
    "                        return True\n",
    "                elif neighbor in recursion_stack:\n",
    "                    return True\n",
    "\n",
    "            recursion_stack.remove(node)\n",
    "            return False\n",
    "\n",
    "        for node in self.graph:\n",
    "            if node not in visited:\n",
    "                if dfs(node):\n",
    "                    return True\n",
    "\n",
    "        return False\n",
    "\n",
    "# Example:\n",
    "if __name__ == \"__main__\":\n",
    "    g = Graph()\n",
    "    g.add_edge(1, 2)\n",
    "    g.add_edge(2, 3)\n",
    "    g.add_edge(3, 1)\n",
    "\n",
    "    has_cycle = g.has_cycle()\n",
    "    if has_cycle:\n",
    "        print(\"The directed graph contains a cycle.\")\n",
    "    else:\n",
    "        print(\"The directed graph does not contain a cycle.\")\n"
   ]
  },
  {
   "cell_type": "markdown",
   "id": "9e447e63",
   "metadata": {},
   "source": [
    "## n-Queen's question"
   ]
  },
  {
   "cell_type": "code",
   "execution_count": 9,
   "id": "958b5bb2",
   "metadata": {},
   "outputs": [
    {
     "name": "stdout",
     "output_type": "stream",
     "text": [
      ". Q . .\n",
      ". . . Q\n",
      "Q . . .\n",
      ". . Q .\n",
      "\n",
      ". . Q .\n",
      "Q . . .\n",
      ". . . Q\n",
      ". Q . .\n",
      "\n"
     ]
    }
   ],
   "source": [
    "def is_safe(board, row, col, n):\n",
    "    \n",
    "    for i in range(row):\n",
    "        if board[i][col] == 1:\n",
    "            return False\n",
    "\n",
    "   \n",
    "    for i, j in zip(range(row, -1, -1), range(col, -1, -1)):\n",
    "        if board[i][j] == 1:\n",
    "            return False\n",
    "\n",
    "    \n",
    "    for i, j in zip(range(row, -1, -1), range(col, n)):\n",
    "        if board[i][j] == 1:\n",
    "            return False\n",
    "\n",
    "    return True\n",
    "\n",
    "def solve_n_queens(n):\n",
    "    board = [[0] * n for _ in range(n)]\n",
    "\n",
    "    def solve(row):\n",
    "        if row == n:\n",
    "           \n",
    "            for row in board:\n",
    "                print(' '.join(['Q' if cell == 1 else '.' for cell in row]))\n",
    "            print()\n",
    "            return\n",
    "\n",
    "        for col in range(n):\n",
    "            if is_safe(board, row, col, n):\n",
    "                board[row][col] = 1\n",
    "                solve(row + 1)\n",
    "                board[row][col] = 0  \n",
    "\n",
    "    solve(0)\n",
    "\n",
    "# Example:\n",
    "if __name__ == \"__main__\":\n",
    "    n = 4  \n",
    "    solve_n_queens(n)\n"
   ]
  },
  {
   "cell_type": "code",
   "execution_count": null,
   "id": "d73b5644",
   "metadata": {},
   "outputs": [],
   "source": []
  }
 ],
 "metadata": {
  "kernelspec": {
   "display_name": "Python 3 (ipykernel)",
   "language": "python",
   "name": "python3"
  },
  "language_info": {
   "codemirror_mode": {
    "name": "ipython",
    "version": 3
   },
   "file_extension": ".py",
   "mimetype": "text/x-python",
   "name": "python",
   "nbconvert_exporter": "python",
   "pygments_lexer": "ipython3",
   "version": "3.11.3"
  }
 },
 "nbformat": 4,
 "nbformat_minor": 5
}
